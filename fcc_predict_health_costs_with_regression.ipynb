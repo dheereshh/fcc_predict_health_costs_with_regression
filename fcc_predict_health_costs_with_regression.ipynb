{
 "cells": [
  {
   "cell_type": "code",
   "execution_count": 1,
   "metadata": {
    "id": "1rRo8oNqZ-Rj"
   },
   "outputs": [
    {
     "name": "stderr",
     "output_type": "stream",
     "text": [
      "2022-10-18 20:45:37.040378: I tensorflow/core/platform/cpu_feature_guard.cc:193] This TensorFlow binary is optimized with oneAPI Deep Neural Network Library (oneDNN) to use the following CPU instructions in performance-critical operations:  AVX2 AVX_VNNI FMA\n",
      "To enable them in other operations, rebuild TensorFlow with the appropriate compiler flags.\n",
      "2022-10-18 20:45:37.088689: I tensorflow/core/util/util.cc:169] oneDNN custom operations are on. You may see slightly different numerical results due to floating-point round-off errors from different computation orders. To turn them off, set the environment variable `TF_ENABLE_ONEDNN_OPTS=0`.\n",
      "2022-10-18 20:45:37.104099: E tensorflow/stream_executor/cuda/cuda_blas.cc:2981] Unable to register cuBLAS factory: Attempting to register factory for plugin cuBLAS when one has already been registered\n",
      "2022-10-18 20:45:37.437229: W tensorflow/stream_executor/platform/default/dso_loader.cc:64] Could not load dynamic library 'libnvinfer.so.7'; dlerror: libnvinfer.so.7: cannot open shared object file: No such file or directory\n",
      "2022-10-18 20:45:37.437257: W tensorflow/stream_executor/platform/default/dso_loader.cc:64] Could not load dynamic library 'libnvinfer_plugin.so.7'; dlerror: libnvinfer_plugin.so.7: cannot open shared object file: No such file or directory\n",
      "2022-10-18 20:45:37.437260: W tensorflow/compiler/tf2tensorrt/utils/py_utils.cc:38] TF-TRT Warning: Cannot dlopen some TensorRT libraries. If you would like to use Nvidia GPU with TensorRT, please make sure the missing libraries mentioned above are installed properly.\n"
     ]
    }
   ],
   "source": [
    "# Import libraries. You may or may not use all of these.\n",
    "#!pip install -q git+https://github.com/tensorflow/docs\n",
    "import matplotlib.pyplot as plt\n",
    "import numpy as np\n",
    "import pandas as pd\n",
    "\n",
    "try:\n",
    "  # %tensorflow_version only exists in Colab.\n",
    "  %tensorflow_version 2.x\n",
    "except Exception:\n",
    "  pass\n",
    "import tensorflow as tf\n",
    "\n",
    "from tensorflow import keras\n",
    "from tensorflow.keras import layers\n",
    "\n",
    "import tensorflow_docs as tfdocs\n",
    "import tensorflow_docs.plots\n",
    "import tensorflow_docs.modeling"
   ]
  },
  {
   "cell_type": "code",
   "execution_count": 2,
   "metadata": {
    "id": "CiX2FI4gZtTt"
   },
   "outputs": [
    {
     "data": {
      "text/html": [
       "<div>\n",
       "<style scoped>\n",
       "    .dataframe tbody tr th:only-of-type {\n",
       "        vertical-align: middle;\n",
       "    }\n",
       "\n",
       "    .dataframe tbody tr th {\n",
       "        vertical-align: top;\n",
       "    }\n",
       "\n",
       "    .dataframe thead th {\n",
       "        text-align: right;\n",
       "    }\n",
       "</style>\n",
       "<table border=\"1\" class=\"dataframe\">\n",
       "  <thead>\n",
       "    <tr style=\"text-align: right;\">\n",
       "      <th></th>\n",
       "      <th>age</th>\n",
       "      <th>sex</th>\n",
       "      <th>bmi</th>\n",
       "      <th>children</th>\n",
       "      <th>smoker</th>\n",
       "      <th>region</th>\n",
       "      <th>expenses</th>\n",
       "    </tr>\n",
       "  </thead>\n",
       "  <tbody>\n",
       "    <tr>\n",
       "      <th>1333</th>\n",
       "      <td>50</td>\n",
       "      <td>male</td>\n",
       "      <td>31.0</td>\n",
       "      <td>3</td>\n",
       "      <td>no</td>\n",
       "      <td>northwest</td>\n",
       "      <td>10600.55</td>\n",
       "    </tr>\n",
       "    <tr>\n",
       "      <th>1334</th>\n",
       "      <td>18</td>\n",
       "      <td>female</td>\n",
       "      <td>31.9</td>\n",
       "      <td>0</td>\n",
       "      <td>no</td>\n",
       "      <td>northeast</td>\n",
       "      <td>2205.98</td>\n",
       "    </tr>\n",
       "    <tr>\n",
       "      <th>1335</th>\n",
       "      <td>18</td>\n",
       "      <td>female</td>\n",
       "      <td>36.9</td>\n",
       "      <td>0</td>\n",
       "      <td>no</td>\n",
       "      <td>southeast</td>\n",
       "      <td>1629.83</td>\n",
       "    </tr>\n",
       "    <tr>\n",
       "      <th>1336</th>\n",
       "      <td>21</td>\n",
       "      <td>female</td>\n",
       "      <td>25.8</td>\n",
       "      <td>0</td>\n",
       "      <td>no</td>\n",
       "      <td>southwest</td>\n",
       "      <td>2007.95</td>\n",
       "    </tr>\n",
       "    <tr>\n",
       "      <th>1337</th>\n",
       "      <td>61</td>\n",
       "      <td>female</td>\n",
       "      <td>29.1</td>\n",
       "      <td>0</td>\n",
       "      <td>yes</td>\n",
       "      <td>northwest</td>\n",
       "      <td>29141.36</td>\n",
       "    </tr>\n",
       "  </tbody>\n",
       "</table>\n",
       "</div>"
      ],
      "text/plain": [
       "      age     sex   bmi  children smoker     region  expenses\n",
       "1333   50    male  31.0         3     no  northwest  10600.55\n",
       "1334   18  female  31.9         0     no  northeast   2205.98\n",
       "1335   18  female  36.9         0     no  southeast   1629.83\n",
       "1336   21  female  25.8         0     no  southwest   2007.95\n",
       "1337   61  female  29.1         0    yes  northwest  29141.36"
      ]
     },
     "execution_count": 2,
     "metadata": {},
     "output_type": "execute_result"
    }
   ],
   "source": [
    "# Import data\n",
    "#!wget https://cdn.freecodecamp.org/project-data/health-costs/insurance.csv\n",
    "dataset = pd.read_csv('insurance.csv')\n",
    "dataset.tail()"
   ]
  },
  {
   "cell_type": "code",
   "execution_count": 3,
   "metadata": {
    "id": "LcopvQh3X-kX"
   },
   "outputs": [
    {
     "name": "stdout",
     "output_type": "stream",
     "text": [
      "<class 'pandas.core.frame.DataFrame'>\n",
      "RangeIndex: 1338 entries, 0 to 1337\n",
      "Data columns (total 7 columns):\n",
      " #   Column    Non-Null Count  Dtype  \n",
      "---  ------    --------------  -----  \n",
      " 0   age       1338 non-null   int64  \n",
      " 1   sex       1338 non-null   object \n",
      " 2   bmi       1338 non-null   float64\n",
      " 3   children  1338 non-null   int64  \n",
      " 4   smoker    1338 non-null   object \n",
      " 5   region    1338 non-null   object \n",
      " 6   expenses  1338 non-null   float64\n",
      "dtypes: float64(2), int64(2), object(3)\n",
      "memory usage: 73.3+ KB\n"
     ]
    }
   ],
   "source": [
    "dataset.info()"
   ]
  },
  {
   "cell_type": "code",
   "execution_count": 4,
   "metadata": {},
   "outputs": [
    {
     "data": {
      "text/html": [
       "<div>\n",
       "<style scoped>\n",
       "    .dataframe tbody tr th:only-of-type {\n",
       "        vertical-align: middle;\n",
       "    }\n",
       "\n",
       "    .dataframe tbody tr th {\n",
       "        vertical-align: top;\n",
       "    }\n",
       "\n",
       "    .dataframe thead th {\n",
       "        text-align: right;\n",
       "    }\n",
       "</style>\n",
       "<table border=\"1\" class=\"dataframe\">\n",
       "  <thead>\n",
       "    <tr style=\"text-align: right;\">\n",
       "      <th></th>\n",
       "      <th>age</th>\n",
       "      <th>sex</th>\n",
       "      <th>bmi</th>\n",
       "      <th>children</th>\n",
       "      <th>smoker</th>\n",
       "      <th>region</th>\n",
       "      <th>expenses</th>\n",
       "    </tr>\n",
       "  </thead>\n",
       "  <tbody>\n",
       "    <tr>\n",
       "      <th>0</th>\n",
       "      <td>19</td>\n",
       "      <td>0</td>\n",
       "      <td>27.9</td>\n",
       "      <td>0</td>\n",
       "      <td>0</td>\n",
       "      <td>0</td>\n",
       "      <td>16884.92</td>\n",
       "    </tr>\n",
       "    <tr>\n",
       "      <th>1</th>\n",
       "      <td>18</td>\n",
       "      <td>1</td>\n",
       "      <td>33.8</td>\n",
       "      <td>1</td>\n",
       "      <td>1</td>\n",
       "      <td>1</td>\n",
       "      <td>1725.55</td>\n",
       "    </tr>\n",
       "    <tr>\n",
       "      <th>2</th>\n",
       "      <td>28</td>\n",
       "      <td>1</td>\n",
       "      <td>33.0</td>\n",
       "      <td>3</td>\n",
       "      <td>1</td>\n",
       "      <td>1</td>\n",
       "      <td>4449.46</td>\n",
       "    </tr>\n",
       "    <tr>\n",
       "      <th>3</th>\n",
       "      <td>33</td>\n",
       "      <td>1</td>\n",
       "      <td>22.7</td>\n",
       "      <td>0</td>\n",
       "      <td>1</td>\n",
       "      <td>2</td>\n",
       "      <td>21984.47</td>\n",
       "    </tr>\n",
       "    <tr>\n",
       "      <th>4</th>\n",
       "      <td>32</td>\n",
       "      <td>1</td>\n",
       "      <td>28.9</td>\n",
       "      <td>0</td>\n",
       "      <td>1</td>\n",
       "      <td>2</td>\n",
       "      <td>3866.86</td>\n",
       "    </tr>\n",
       "  </tbody>\n",
       "</table>\n",
       "</div>"
      ],
      "text/plain": [
       "   age  sex   bmi  children  smoker  region  expenses\n",
       "0   19    0  27.9         0       0       0  16884.92\n",
       "1   18    1  33.8         1       1       1   1725.55\n",
       "2   28    1  33.0         3       1       1   4449.46\n",
       "3   33    1  22.7         0       1       2  21984.47\n",
       "4   32    1  28.9         0       1       2   3866.86"
      ]
     },
     "execution_count": 4,
     "metadata": {},
     "output_type": "execute_result"
    }
   ],
   "source": [
    "dataset[\"sex\"] = pd.factorize(dataset[\"sex\"])[0]\n",
    "dataset[\"region\"] = pd.factorize(dataset[\"region\"])[0]\n",
    "dataset[\"smoker\"] = pd.factorize(dataset[\"smoker\"])[0]\n",
    "dataset.head()"
   ]
  },
  {
   "cell_type": "code",
   "execution_count": 5,
   "metadata": {},
   "outputs": [
    {
     "name": "stdout",
     "output_type": "stream",
     "text": [
      "1070 \n",
      "     age  sex   bmi  children  smoker  region  expenses\n",
      "1  18.0  1.0  33.8       1.0     1.0     1.0   1725.55\n",
      "2  28.0  1.0  33.0       3.0     1.0     1.0   4449.46\n",
      "4  32.0  1.0  28.9       0.0     1.0     2.0   3866.86\n",
      "6  46.0  0.0  33.4       1.0     1.0     1.0   8240.59\n",
      "8  37.0  1.0  29.8       2.0     1.0     3.0   6406.41\n"
     ]
    },
    {
     "data": {
      "text/plain": [
       "268"
      ]
     },
     "execution_count": 5,
     "metadata": {},
     "output_type": "execute_result"
    }
   ],
   "source": [
    "test_dataset = dataset.sample(frac=0.2)\n",
    "train = dataset[~dataset.isin(test_dataset)].dropna()\n",
    "print(len(train), '\\n',train.head())\n",
    "len(test_dataset)"
   ]
  },
  {
   "cell_type": "code",
   "execution_count": 6,
   "metadata": {},
   "outputs": [],
   "source": [
    "train_labels = train.pop(\"expenses\")\n",
    "test_labels = test_dataset.pop(\"expenses\")"
   ]
  },
  {
   "cell_type": "code",
   "execution_count": 7,
   "metadata": {},
   "outputs": [
    {
     "name": "stderr",
     "output_type": "stream",
     "text": [
      "2022-10-18 20:45:37.855118: I tensorflow/stream_executor/cuda/cuda_gpu_executor.cc:980] successful NUMA node read from SysFS had negative value (-1), but there must be at least one NUMA node, so returning NUMA node zero\n",
      "2022-10-18 20:45:37.871583: I tensorflow/stream_executor/cuda/cuda_gpu_executor.cc:980] successful NUMA node read from SysFS had negative value (-1), but there must be at least one NUMA node, so returning NUMA node zero\n",
      "2022-10-18 20:45:37.871670: I tensorflow/stream_executor/cuda/cuda_gpu_executor.cc:980] successful NUMA node read from SysFS had negative value (-1), but there must be at least one NUMA node, so returning NUMA node zero\n"
     ]
    },
    {
     "name": "stdout",
     "output_type": "stream",
     "text": [
      "Model: \"sequential\"\n",
      "_________________________________________________________________\n",
      " Layer (type)                Output Shape              Param #   \n",
      "=================================================================\n",
      " normalization (Normalizatio  (None, 6)                13        \n",
      " n)                                                              \n",
      "                                                                 \n",
      " dense (Dense)               (None, 2)                 14        \n",
      "                                                                 \n",
      " dense_1 (Dense)             (None, 1)                 3         \n",
      "                                                                 \n",
      "=================================================================\n",
      "Total params: 30\n",
      "Trainable params: 17\n",
      "Non-trainable params: 13\n",
      "_________________________________________________________________\n"
     ]
    },
    {
     "name": "stderr",
     "output_type": "stream",
     "text": [
      "2022-10-18 20:45:37.872414: I tensorflow/core/platform/cpu_feature_guard.cc:193] This TensorFlow binary is optimized with oneAPI Deep Neural Network Library (oneDNN) to use the following CPU instructions in performance-critical operations:  AVX2 AVX_VNNI FMA\n",
      "To enable them in other operations, rebuild TensorFlow with the appropriate compiler flags.\n",
      "2022-10-18 20:45:37.872918: I tensorflow/stream_executor/cuda/cuda_gpu_executor.cc:980] successful NUMA node read from SysFS had negative value (-1), but there must be at least one NUMA node, so returning NUMA node zero\n",
      "2022-10-18 20:45:37.872988: I tensorflow/stream_executor/cuda/cuda_gpu_executor.cc:980] successful NUMA node read from SysFS had negative value (-1), but there must be at least one NUMA node, so returning NUMA node zero\n",
      "2022-10-18 20:45:37.873031: I tensorflow/stream_executor/cuda/cuda_gpu_executor.cc:980] successful NUMA node read from SysFS had negative value (-1), but there must be at least one NUMA node, so returning NUMA node zero\n",
      "2022-10-18 20:45:38.131490: I tensorflow/stream_executor/cuda/cuda_gpu_executor.cc:980] successful NUMA node read from SysFS had negative value (-1), but there must be at least one NUMA node, so returning NUMA node zero\n",
      "2022-10-18 20:45:38.131605: I tensorflow/stream_executor/cuda/cuda_gpu_executor.cc:980] successful NUMA node read from SysFS had negative value (-1), but there must be at least one NUMA node, so returning NUMA node zero\n",
      "2022-10-18 20:45:38.131653: I tensorflow/stream_executor/cuda/cuda_gpu_executor.cc:980] successful NUMA node read from SysFS had negative value (-1), but there must be at least one NUMA node, so returning NUMA node zero\n",
      "2022-10-18 20:45:38.131702: I tensorflow/core/common_runtime/gpu/gpu_device.cc:1616] Created device /job:localhost/replica:0/task:0/device:GPU:0 with 9685 MB memory:  -> device: 0, name: NVIDIA GeForce RTX 3080, pci bus id: 0000:01:00.0, compute capability: 8.6\n"
     ]
    }
   ],
   "source": [
    "# Create normalized data layer\n",
    "normalizer = layers.experimental.preprocessing.Normalization()\n",
    "normalizer.adapt(np.array(train))\n",
    "# Create model\n",
    "model = keras.Sequential([\n",
    "                          normalizer,\n",
    "                          layers.Dense(2),\n",
    "                          layers.Dense(1)\n",
    "])\n",
    "\n",
    "model.compile(optimizer=keras.optimizers.Adam(learning_rate=0.1),\n",
    "              loss='mae',\n",
    "              metrics=['mae', 'mse'])\n",
    "\n",
    "model.summary()\n"
   ]
  },
  {
   "cell_type": "code",
   "execution_count": 8,
   "metadata": {},
   "outputs": [
    {
     "name": "stderr",
     "output_type": "stream",
     "text": [
      "/home/dheereshantony/.local/lib/python3.10/site-packages/keras/engine/data_adapter.py:1699: FutureWarning: The behavior of `series[i:j]` with an integer-dtype index is deprecated. In a future version, this will be treated as *label-based* indexing, consistent with e.g. `series[i]` lookups. To retain the old behavior, use `series.iloc[i:j]`. To get the future behavior, use `series.loc[i:j]`.\n",
      "  return t[start:end]\n"
     ]
    },
    {
     "name": "stdout",
     "output_type": "stream",
     "text": [
      "Epoch 1/100\n",
      "27/27 [==============================] - 1s 4ms/step - loss: 13530.4209 - mae: 13530.4209 - mse: 332990400.0000 - val_loss: 13857.0039 - val_mae: 13857.0039 - val_mse: 349620480.0000\n",
      "Epoch 2/100\n",
      "27/27 [==============================] - 0s 1ms/step - loss: 13487.8398 - mae: 13487.8398 - mse: 331893664.0000 - val_loss: 13785.3857 - val_mae: 13785.3857 - val_mse: 347671040.0000\n",
      "Epoch 3/100\n",
      "27/27 [==============================] - 0s 1ms/step - loss: 13381.6787 - mae: 13381.6787 - mse: 329041184.0000 - val_loss: 13644.3477 - val_mae: 13644.3477 - val_mse: 343877984.0000\n",
      "Epoch 4/100\n",
      " 1/27 [>.............................] - ETA: 0s - loss: 11031.0098 - mae: 11031.0098 - mse: 220782688.0000"
     ]
    },
    {
     "name": "stderr",
     "output_type": "stream",
     "text": [
      "2022-10-18 20:45:38.984265: I tensorflow/stream_executor/cuda/cuda_blas.cc:1614] TensorFloat-32 will be used for the matrix multiplication. This will only be logged once.\n"
     ]
    },
    {
     "name": "stdout",
     "output_type": "stream",
     "text": [
      "27/27 [==============================] - 0s 2ms/step - loss: 13197.5762 - mae: 13197.5762 - mse: 324367328.0000 - val_loss: 13424.4717 - val_mae: 13424.4717 - val_mse: 338107968.0000\n",
      "Epoch 5/100\n",
      "27/27 [==============================] - 0s 1ms/step - loss: 12930.2549 - mae: 12930.2549 - mse: 317374304.0000 - val_loss: 13121.8516 - val_mae: 13121.8516 - val_mse: 330250944.0000\n",
      "Epoch 6/100\n",
      "27/27 [==============================] - 0s 1ms/step - loss: 12580.3037 - mae: 12580.3037 - mse: 308648480.0000 - val_loss: 12742.0137 - val_mae: 12742.0137 - val_mse: 320496544.0000\n",
      "Epoch 7/100\n",
      "27/27 [==============================] - 0s 1ms/step - loss: 12159.8193 - mae: 12159.8193 - mse: 297907104.0000 - val_loss: 12298.5664 - val_mae: 12298.5664 - val_mse: 308456512.0000\n",
      "Epoch 8/100\n",
      "27/27 [==============================] - 0s 1ms/step - loss: 11671.6523 - mae: 11671.6523 - mse: 284514848.0000 - val_loss: 11775.7686 - val_mae: 11775.7686 - val_mse: 294282560.0000\n",
      "Epoch 9/100\n",
      "27/27 [==============================] - 0s 1ms/step - loss: 11109.1240 - mae: 11109.1240 - mse: 269357376.0000 - val_loss: 11175.0898 - val_mae: 11175.0898 - val_mse: 277204544.0000\n",
      "Epoch 10/100\n",
      "27/27 [==============================] - 0s 1ms/step - loss: 10471.6562 - mae: 10471.6562 - mse: 252275056.0000 - val_loss: 10473.2422 - val_mae: 10473.2422 - val_mse: 258711760.0000\n",
      "Epoch 11/100\n",
      "27/27 [==============================] - 0s 1ms/step - loss: 9739.4980 - mae: 9739.4980 - mse: 233866880.0000 - val_loss: 9704.2734 - val_mae: 9704.2734 - val_mse: 239514080.0000\n",
      "Epoch 12/100\n",
      "27/27 [==============================] - 0s 1ms/step - loss: 8931.7432 - mae: 8931.7432 - mse: 214956832.0000 - val_loss: 8850.5156 - val_mae: 8850.5156 - val_mse: 219144016.0000\n",
      "Epoch 13/100\n",
      "27/27 [==============================] - 0s 1ms/step - loss: 8049.5576 - mae: 8049.5576 - mse: 195253984.0000 - val_loss: 7945.6309 - val_mae: 7945.6313 - val_mse: 198422368.0000\n",
      "Epoch 14/100\n",
      "27/27 [==============================] - 0s 1ms/step - loss: 7166.8359 - mae: 7166.8359 - mse: 175623696.0000 - val_loss: 7148.1655 - val_mae: 7148.1655 - val_mse: 178388272.0000\n",
      "Epoch 15/100\n",
      "27/27 [==============================] - 0s 2ms/step - loss: 6401.6719 - mae: 6401.6719 - mse: 155395504.0000 - val_loss: 6522.8774 - val_mae: 6522.8774 - val_mse: 156584656.0000\n",
      "Epoch 16/100\n",
      "27/27 [==============================] - 0s 2ms/step - loss: 5855.1050 - mae: 5855.1050 - mse: 135831056.0000 - val_loss: 6059.3203 - val_mae: 6059.3203 - val_mse: 137254720.0000\n",
      "Epoch 17/100\n",
      "27/27 [==============================] - 0s 1ms/step - loss: 5423.3364 - mae: 5423.3364 - mse: 118666744.0000 - val_loss: 5614.4321 - val_mae: 5614.4321 - val_mse: 120172872.0000\n",
      "Epoch 18/100\n",
      "27/27 [==============================] - 0s 1ms/step - loss: 4993.1689 - mae: 4993.1689 - mse: 103708776.0000 - val_loss: 5166.2349 - val_mae: 5166.2349 - val_mse: 104465888.0000\n",
      "Epoch 19/100\n",
      "27/27 [==============================] - 0s 1ms/step - loss: 4565.2109 - mae: 4565.2109 - mse: 90205928.0000 - val_loss: 4724.7490 - val_mae: 4724.7490 - val_mse: 90249072.0000\n",
      "Epoch 20/100\n",
      "27/27 [==============================] - 0s 1ms/step - loss: 4189.5088 - mae: 4189.5088 - mse: 78279424.0000 - val_loss: 4377.2798 - val_mae: 4377.2798 - val_mse: 79130544.0000\n",
      "Epoch 21/100\n",
      "27/27 [==============================] - 0s 1ms/step - loss: 3970.0566 - mae: 3970.0566 - mse: 70019512.0000 - val_loss: 4187.2720 - val_mae: 4187.2720 - val_mse: 71973952.0000\n",
      "Epoch 22/100\n",
      "27/27 [==============================] - 0s 1ms/step - loss: 3880.9998 - mae: 3880.9998 - mse: 65094512.0000 - val_loss: 4083.1746 - val_mae: 4083.1746 - val_mse: 67985392.0000\n",
      "Epoch 23/100\n",
      "27/27 [==============================] - 0s 1ms/step - loss: 3841.9211 - mae: 3841.9211 - mse: 61878240.0000 - val_loss: 4041.2986 - val_mae: 4041.2986 - val_mse: 65211376.0000\n",
      "Epoch 24/100\n",
      "27/27 [==============================] - 0s 1ms/step - loss: 3820.0820 - mae: 3820.0820 - mse: 60105824.0000 - val_loss: 4026.3171 - val_mae: 4026.3171 - val_mse: 63559756.0000\n",
      "Epoch 25/100\n",
      "27/27 [==============================] - 0s 2ms/step - loss: 3808.2480 - mae: 3808.2480 - mse: 59159192.0000 - val_loss: 4020.4106 - val_mae: 4020.4106 - val_mse: 62914868.0000\n",
      "Epoch 26/100\n",
      "27/27 [==============================] - 0s 2ms/step - loss: 3801.4163 - mae: 3801.4163 - mse: 58008268.0000 - val_loss: 4008.0679 - val_mae: 4008.0679 - val_mse: 61495228.0000\n",
      "Epoch 27/100\n",
      "27/27 [==============================] - 0s 1ms/step - loss: 3793.3672 - mae: 3793.3672 - mse: 57000936.0000 - val_loss: 3992.4260 - val_mae: 3992.4260 - val_mse: 60053024.0000\n",
      "Epoch 28/100\n",
      "27/27 [==============================] - 0s 1ms/step - loss: 3787.6226 - mae: 3787.6226 - mse: 55563384.0000 - val_loss: 3982.6299 - val_mae: 3982.6299 - val_mse: 58734780.0000\n",
      "Epoch 29/100\n",
      "27/27 [==============================] - 0s 1ms/step - loss: 3780.1709 - mae: 3780.1709 - mse: 54896880.0000 - val_loss: 3970.8293 - val_mae: 3970.8293 - val_mse: 58047688.0000\n",
      "Epoch 30/100\n",
      "27/27 [==============================] - 0s 1ms/step - loss: 3773.3113 - mae: 3773.3113 - mse: 54018692.0000 - val_loss: 3955.2637 - val_mae: 3955.2637 - val_mse: 56523192.0000\n",
      "Epoch 31/100\n",
      "27/27 [==============================] - 0s 1ms/step - loss: 3764.3999 - mae: 3764.3999 - mse: 52862264.0000 - val_loss: 3944.2183 - val_mae: 3944.2183 - val_mse: 55664420.0000\n",
      "Epoch 32/100\n",
      "27/27 [==============================] - 0s 1ms/step - loss: 3757.9937 - mae: 3757.9937 - mse: 51933300.0000 - val_loss: 3933.6477 - val_mae: 3933.6477 - val_mse: 54483472.0000\n",
      "Epoch 33/100\n",
      "27/27 [==============================] - 0s 1ms/step - loss: 3748.4871 - mae: 3748.4871 - mse: 51306844.0000 - val_loss: 3924.4702 - val_mae: 3924.4702 - val_mse: 53659084.0000\n",
      "Epoch 34/100\n",
      "27/27 [==============================] - 0s 2ms/step - loss: 3741.3184 - mae: 3741.3184 - mse: 50327408.0000 - val_loss: 3914.7339 - val_mae: 3914.7339 - val_mse: 52737844.0000\n",
      "Epoch 35/100\n",
      "27/27 [==============================] - 0s 2ms/step - loss: 3732.9512 - mae: 3732.9512 - mse: 49510428.0000 - val_loss: 3907.5190 - val_mae: 3907.5190 - val_mse: 51712920.0000\n",
      "Epoch 36/100\n",
      "27/27 [==============================] - 0s 2ms/step - loss: 3725.7163 - mae: 3725.7163 - mse: 48884516.0000 - val_loss: 3894.0139 - val_mae: 3894.0139 - val_mse: 50926048.0000\n",
      "Epoch 37/100\n",
      "27/27 [==============================] - 0s 2ms/step - loss: 3718.6685 - mae: 3718.6685 - mse: 48067468.0000 - val_loss: 3882.2410 - val_mae: 3882.2410 - val_mse: 49814060.0000\n",
      "Epoch 38/100\n",
      "27/27 [==============================] - 0s 1ms/step - loss: 3706.2034 - mae: 3706.2034 - mse: 47393504.0000 - val_loss: 3876.2798 - val_mae: 3876.2798 - val_mse: 49297684.0000\n",
      "Epoch 39/100\n",
      "27/27 [==============================] - 0s 1ms/step - loss: 3702.0264 - mae: 3702.0264 - mse: 46804608.0000 - val_loss: 3861.0835 - val_mae: 3861.0835 - val_mse: 48287500.0000\n",
      "Epoch 40/100\n",
      "27/27 [==============================] - 0s 1ms/step - loss: 3689.5254 - mae: 3689.5254 - mse: 46396132.0000 - val_loss: 3855.5327 - val_mae: 3855.5327 - val_mse: 47704992.0000\n",
      "Epoch 41/100\n",
      "27/27 [==============================] - 0s 1ms/step - loss: 3687.0515 - mae: 3687.0515 - mse: 45533792.0000 - val_loss: 3840.2219 - val_mae: 3840.2219 - val_mse: 46905804.0000\n",
      "Epoch 42/100\n",
      "27/27 [==============================] - 0s 1ms/step - loss: 3673.6558 - mae: 3673.6558 - mse: 44939232.0000 - val_loss: 3831.9150 - val_mae: 3831.9150 - val_mse: 46260388.0000\n",
      "Epoch 43/100\n",
      "27/27 [==============================] - 0s 1ms/step - loss: 3661.5745 - mae: 3661.5745 - mse: 44789604.0000 - val_loss: 3825.2014 - val_mae: 3825.2014 - val_mse: 45945676.0000\n",
      "Epoch 44/100\n",
      "27/27 [==============================] - 0s 1ms/step - loss: 3655.2817 - mae: 3655.2817 - mse: 44488560.0000 - val_loss: 3803.1692 - val_mae: 3803.1692 - val_mse: 45563292.0000\n",
      "Epoch 45/100\n",
      "27/27 [==============================] - 0s 1ms/step - loss: 3642.9495 - mae: 3642.9495 - mse: 44354612.0000 - val_loss: 3793.4170 - val_mae: 3793.4170 - val_mse: 45104904.0000\n",
      "Epoch 46/100\n",
      "27/27 [==============================] - 0s 1ms/step - loss: 3634.1616 - mae: 3634.1616 - mse: 43945856.0000 - val_loss: 3783.5164 - val_mae: 3783.5164 - val_mse: 44649980.0000\n"
     ]
    },
    {
     "name": "stdout",
     "output_type": "stream",
     "text": [
      "Epoch 47/100\n",
      "27/27 [==============================] - 0s 1ms/step - loss: 3623.1538 - mae: 3623.1538 - mse: 43818364.0000 - val_loss: 3774.7717 - val_mae: 3774.7717 - val_mse: 44384740.0000\n",
      "Epoch 48/100\n",
      "27/27 [==============================] - 0s 1ms/step - loss: 3614.6245 - mae: 3614.6245 - mse: 43629832.0000 - val_loss: 3763.0681 - val_mae: 3763.0681 - val_mse: 44275976.0000\n",
      "Epoch 49/100\n",
      "27/27 [==============================] - 0s 1ms/step - loss: 3605.3542 - mae: 3605.3542 - mse: 43821464.0000 - val_loss: 3756.8501 - val_mae: 3756.8501 - val_mse: 44112560.0000\n",
      "Epoch 50/100\n",
      "27/27 [==============================] - 0s 1ms/step - loss: 3605.2520 - mae: 3605.2520 - mse: 43585932.0000 - val_loss: 3753.3718 - val_mae: 3753.3718 - val_mse: 44185704.0000\n",
      "Epoch 51/100\n",
      "27/27 [==============================] - 0s 1ms/step - loss: 3590.9360 - mae: 3590.9360 - mse: 43994164.0000 - val_loss: 3740.5562 - val_mae: 3740.5562 - val_mse: 44286824.0000\n",
      "Epoch 52/100\n",
      "27/27 [==============================] - 0s 1ms/step - loss: 3582.6990 - mae: 3582.6990 - mse: 44269168.0000 - val_loss: 3735.3987 - val_mae: 3735.3987 - val_mse: 44544880.0000\n",
      "Epoch 53/100\n",
      "27/27 [==============================] - 0s 1ms/step - loss: 3572.1760 - mae: 3572.1760 - mse: 44621000.0000 - val_loss: 3731.5242 - val_mae: 3731.5242 - val_mse: 44610396.0000\n",
      "Epoch 54/100\n",
      "27/27 [==============================] - 0s 1ms/step - loss: 3566.6284 - mae: 3566.6284 - mse: 45000964.0000 - val_loss: 3715.4609 - val_mae: 3715.4609 - val_mse: 45130408.0000\n",
      "Epoch 55/100\n",
      "27/27 [==============================] - 0s 1ms/step - loss: 3559.4448 - mae: 3559.4448 - mse: 45510760.0000 - val_loss: 3716.5757 - val_mae: 3716.5757 - val_mse: 45279240.0000\n",
      "Epoch 56/100\n",
      "27/27 [==============================] - 0s 1ms/step - loss: 3553.2942 - mae: 3553.2942 - mse: 45719876.0000 - val_loss: 3707.6223 - val_mae: 3707.6223 - val_mse: 45492940.0000\n",
      "Epoch 57/100\n",
      "27/27 [==============================] - 0s 1ms/step - loss: 3549.4768 - mae: 3549.4768 - mse: 46400032.0000 - val_loss: 3696.8455 - val_mae: 3696.8455 - val_mse: 46237964.0000\n",
      "Epoch 58/100\n",
      "27/27 [==============================] - 0s 1ms/step - loss: 3542.8210 - mae: 3542.8210 - mse: 47058388.0000 - val_loss: 3694.0144 - val_mae: 3694.0144 - val_mse: 46530472.0000\n",
      "Epoch 59/100\n",
      "27/27 [==============================] - 0s 1ms/step - loss: 3537.0110 - mae: 3537.0110 - mse: 47162596.0000 - val_loss: 3688.1775 - val_mae: 3688.1775 - val_mse: 47083084.0000\n",
      "Epoch 60/100\n",
      "27/27 [==============================] - 0s 1ms/step - loss: 3530.0696 - mae: 3530.0696 - mse: 48030236.0000 - val_loss: 3678.6538 - val_mae: 3678.6538 - val_mse: 47583916.0000\n",
      "Epoch 61/100\n",
      "27/27 [==============================] - 0s 1ms/step - loss: 3527.1633 - mae: 3527.1633 - mse: 48458664.0000 - val_loss: 3678.0969 - val_mae: 3678.0969 - val_mse: 48021528.0000\n",
      "Epoch 62/100\n",
      "27/27 [==============================] - 0s 1ms/step - loss: 3518.7175 - mae: 3518.7175 - mse: 49419832.0000 - val_loss: 3670.9509 - val_mae: 3670.9509 - val_mse: 49034412.0000\n",
      "Epoch 63/100\n",
      "27/27 [==============================] - 0s 1ms/step - loss: 3512.8328 - mae: 3512.8328 - mse: 50496800.0000 - val_loss: 3656.2156 - val_mae: 3656.2156 - val_mse: 49846876.0000\n",
      "Epoch 64/100\n",
      "27/27 [==============================] - 0s 1ms/step - loss: 3511.0400 - mae: 3511.0400 - mse: 50754064.0000 - val_loss: 3656.8318 - val_mae: 3656.8318 - val_mse: 50274320.0000\n",
      "Epoch 65/100\n",
      "27/27 [==============================] - 0s 1ms/step - loss: 3513.2437 - mae: 3513.2437 - mse: 51624376.0000 - val_loss: 3659.6528 - val_mae: 3659.6523 - val_mse: 50649524.0000\n",
      "Epoch 66/100\n",
      "27/27 [==============================] - 0s 1ms/step - loss: 3509.8140 - mae: 3509.8140 - mse: 51469444.0000 - val_loss: 3663.5278 - val_mae: 3663.5278 - val_mse: 50265480.0000\n",
      "Epoch 67/100\n",
      "27/27 [==============================] - 0s 1ms/step - loss: 3506.9768 - mae: 3506.9768 - mse: 51671788.0000 - val_loss: 3655.2021 - val_mae: 3655.2021 - val_mse: 50875164.0000\n",
      "Epoch 68/100\n",
      "27/27 [==============================] - 0s 1ms/step - loss: 3510.0957 - mae: 3510.0957 - mse: 51811056.0000 - val_loss: 3660.6543 - val_mae: 3660.6543 - val_mse: 50601588.0000\n",
      "Epoch 69/100\n",
      "27/27 [==============================] - 0s 1ms/step - loss: 3507.0496 - mae: 3507.0496 - mse: 51601332.0000 - val_loss: 3664.7913 - val_mae: 3664.7913 - val_mse: 50669324.0000\n",
      "Epoch 70/100\n",
      "27/27 [==============================] - 0s 1ms/step - loss: 3511.1802 - mae: 3511.1802 - mse: 51742096.0000 - val_loss: 3658.1804 - val_mae: 3658.1804 - val_mse: 50543680.0000\n",
      "Epoch 71/100\n",
      "27/27 [==============================] - 0s 1ms/step - loss: 3508.2505 - mae: 3508.2505 - mse: 51554572.0000 - val_loss: 3667.9001 - val_mae: 3667.9001 - val_mse: 50814268.0000\n",
      "Epoch 72/100\n",
      "27/27 [==============================] - 0s 2ms/step - loss: 3509.5583 - mae: 3509.5583 - mse: 51728528.0000 - val_loss: 3655.8665 - val_mae: 3655.8665 - val_mse: 50826088.0000\n",
      "Epoch 73/100\n",
      "27/27 [==============================] - 0s 1ms/step - loss: 3507.1250 - mae: 3507.1250 - mse: 51553792.0000 - val_loss: 3658.3767 - val_mae: 3658.3767 - val_mse: 50543696.0000\n",
      "Epoch 74/100\n",
      "27/27 [==============================] - 0s 1ms/step - loss: 3511.4697 - mae: 3511.4697 - mse: 51761008.0000 - val_loss: 3656.7708 - val_mae: 3656.7708 - val_mse: 50888360.0000\n",
      "Epoch 75/100\n",
      "27/27 [==============================] - 0s 1ms/step - loss: 3512.8083 - mae: 3512.8083 - mse: 51772316.0000 - val_loss: 3667.2886 - val_mae: 3667.2886 - val_mse: 50928496.0000\n",
      "Epoch 76/100\n",
      "27/27 [==============================] - 0s 1ms/step - loss: 3508.6182 - mae: 3508.6182 - mse: 51519264.0000 - val_loss: 3655.4641 - val_mae: 3655.4641 - val_mse: 50350168.0000\n",
      "Epoch 77/100\n",
      "27/27 [==============================] - 0s 1ms/step - loss: 3512.0864 - mae: 3512.0864 - mse: 51430552.0000 - val_loss: 3660.2312 - val_mae: 3660.2312 - val_mse: 50482492.0000\n",
      "Epoch 78/100\n",
      "27/27 [==============================] - 0s 1ms/step - loss: 3513.2703 - mae: 3513.2703 - mse: 51569496.0000 - val_loss: 3654.1917 - val_mae: 3654.1917 - val_mse: 50798988.0000\n",
      "Epoch 79/100\n",
      "27/27 [==============================] - 0s 1ms/step - loss: 3508.6841 - mae: 3508.6841 - mse: 52080840.0000 - val_loss: 3664.6968 - val_mae: 3664.6970 - val_mse: 50727588.0000\n",
      "Epoch 80/100\n",
      "27/27 [==============================] - 0s 1ms/step - loss: 3511.7590 - mae: 3511.7590 - mse: 51430376.0000 - val_loss: 3657.7534 - val_mae: 3657.7534 - val_mse: 50361728.0000\n",
      "Epoch 81/100\n",
      "27/27 [==============================] - 0s 1ms/step - loss: 3510.6494 - mae: 3510.6494 - mse: 51709620.0000 - val_loss: 3657.1255 - val_mae: 3657.1255 - val_mse: 50907596.0000\n",
      "Epoch 82/100\n",
      "27/27 [==============================] - 0s 1ms/step - loss: 3510.7798 - mae: 3510.7798 - mse: 51740508.0000 - val_loss: 3656.9841 - val_mae: 3656.9841 - val_mse: 50825512.0000\n",
      "Epoch 83/100\n",
      "27/27 [==============================] - 0s 1ms/step - loss: 3508.9956 - mae: 3508.9956 - mse: 51814356.0000 - val_loss: 3660.5435 - val_mae: 3660.5435 - val_mse: 50844252.0000\n",
      "Epoch 84/100\n",
      "27/27 [==============================] - 0s 1ms/step - loss: 3509.8660 - mae: 3509.8660 - mse: 51572656.0000 - val_loss: 3656.6025 - val_mae: 3656.6025 - val_mse: 50480624.0000\n",
      "Epoch 85/100\n",
      "27/27 [==============================] - 0s 1ms/step - loss: 3506.9534 - mae: 3506.9534 - mse: 51603656.0000 - val_loss: 3662.4065 - val_mae: 3662.4065 - val_mse: 50629836.0000\n",
      "Epoch 86/100\n",
      "27/27 [==============================] - 0s 1ms/step - loss: 3507.8804 - mae: 3507.8804 - mse: 51477332.0000 - val_loss: 3661.2312 - val_mae: 3661.2312 - val_mse: 50529056.0000\n",
      "Epoch 87/100\n",
      "27/27 [==============================] - 0s 2ms/step - loss: 3509.3674 - mae: 3509.3674 - mse: 51734132.0000 - val_loss: 3663.7837 - val_mae: 3663.7837 - val_mse: 50732376.0000\n",
      "Epoch 88/100\n",
      "27/27 [==============================] - 0s 1ms/step - loss: 3508.5090 - mae: 3508.5090 - mse: 51626276.0000 - val_loss: 3654.4507 - val_mae: 3654.4507 - val_mse: 50738240.0000\n",
      "Epoch 89/100\n",
      "27/27 [==============================] - 0s 1ms/step - loss: 3511.3472 - mae: 3511.3472 - mse: 51812424.0000 - val_loss: 3667.5381 - val_mae: 3667.5381 - val_mse: 50773728.0000\n",
      "Epoch 90/100\n"
     ]
    },
    {
     "name": "stdout",
     "output_type": "stream",
     "text": [
      "27/27 [==============================] - 0s 1ms/step - loss: 3509.9783 - mae: 3509.9783 - mse: 52037696.0000 - val_loss: 3655.7397 - val_mae: 3655.7397 - val_mse: 51078416.0000\n",
      "Epoch 91/100\n",
      "27/27 [==============================] - 0s 1ms/step - loss: 3510.8215 - mae: 3510.8215 - mse: 51597260.0000 - val_loss: 3659.4578 - val_mae: 3659.4578 - val_mse: 50524792.0000\n",
      "Epoch 92/100\n",
      "27/27 [==============================] - 0s 1ms/step - loss: 3508.2639 - mae: 3508.2639 - mse: 51502168.0000 - val_loss: 3654.9526 - val_mae: 3654.9526 - val_mse: 50686908.0000\n",
      "Epoch 93/100\n",
      "27/27 [==============================] - 0s 1ms/step - loss: 3509.5859 - mae: 3509.5859 - mse: 51459240.0000 - val_loss: 3655.9163 - val_mae: 3655.9163 - val_mse: 50538916.0000\n",
      "Epoch 94/100\n",
      "27/27 [==============================] - 0s 1ms/step - loss: 3509.8130 - mae: 3509.8130 - mse: 51608596.0000 - val_loss: 3660.8821 - val_mae: 3660.8821 - val_mse: 50802100.0000\n",
      "Epoch 95/100\n",
      "27/27 [==============================] - 0s 1ms/step - loss: 3509.6445 - mae: 3509.6445 - mse: 51735212.0000 - val_loss: 3652.2395 - val_mae: 3652.2395 - val_mse: 50810568.0000\n",
      "Epoch 96/100\n",
      "27/27 [==============================] - 0s 1ms/step - loss: 3510.4058 - mae: 3510.4058 - mse: 51669696.0000 - val_loss: 3660.0012 - val_mae: 3660.0012 - val_mse: 50429196.0000\n",
      "Epoch 97/100\n",
      "27/27 [==============================] - 0s 1ms/step - loss: 3509.8154 - mae: 3509.8154 - mse: 51751028.0000 - val_loss: 3653.4797 - val_mae: 3653.4797 - val_mse: 50831880.0000\n",
      "Epoch 98/100\n",
      "27/27 [==============================] - 0s 1ms/step - loss: 3507.4209 - mae: 3507.4209 - mse: 51516056.0000 - val_loss: 3658.1553 - val_mae: 3658.1553 - val_mse: 50491688.0000\n",
      "Epoch 99/100\n",
      "27/27 [==============================] - 0s 1ms/step - loss: 3509.4148 - mae: 3509.4148 - mse: 51598696.0000 - val_loss: 3662.7637 - val_mae: 3662.7637 - val_mse: 50672224.0000\n",
      "Epoch 100/100\n",
      "27/27 [==============================] - 0s 1ms/step - loss: 3512.0493 - mae: 3512.0493 - mse: 51995696.0000 - val_loss: 3658.6106 - val_mae: 3658.6106 - val_mse: 50922352.0000\n"
     ]
    },
    {
     "data": {
      "text/plain": [
       "<keras.callbacks.History at 0x7f7be0211d50>"
      ]
     },
     "execution_count": 8,
     "metadata": {},
     "output_type": "execute_result"
    }
   ],
   "source": [
    "model.fit(train, train_labels, epochs=100, validation_split=0.2)"
   ]
  },
  {
   "cell_type": "code",
   "execution_count": 9,
   "metadata": {
    "id": "Xe7RXH3N3CWU"
   },
   "outputs": [
    {
     "name": "stdout",
     "output_type": "stream",
     "text": [
      "9/9 - 0s - loss: 2917.6782 - mae: 2917.6782 - mse: 37145104.0000 - 14ms/epoch - 2ms/step\n",
      "Testing set Mean Abs Error: 2917.68 expenses\n",
      "You passed the challenge. Great job!\n",
      "9/9 [==============================] - 0s 465us/step\n"
     ]
    },
    {
     "data": {
      "image/png": "[encoded data removed]",
      "text/plain": [
       "<Figure size 640x480 with 1 Axes>"
      ]
     },
     "metadata": {},
     "output_type": "display_data"
    }
   ],
   "source": [
    "# RUN THIS CELL TO TEST YOUR MODEL. DO NOT MODIFY CONTENTS.\n",
    "# Test model by checking how well the model generalizes using the test set.\n",
    "loss, mae, mse = model.evaluate(test_dataset, test_labels, verbose=2)\n",
    "\n",
    "print(\"Testing set Mean Abs Error: {:5.2f} expenses\".format(mae))\n",
    "\n",
    "if mae < 3500:\n",
    "  print(\"You passed the challenge. Great job!\")\n",
    "else:\n",
    "  print(\"The Mean Abs Error must be less than 3500. Keep trying.\")\n",
    "\n",
    "# Plot predictions.\n",
    "test_predictions = model.predict(test_dataset).flatten()\n",
    "\n",
    "a = plt.axes(aspect='equal')\n",
    "plt.scatter(test_labels, test_predictions)\n",
    "plt.xlabel('True values (expenses)')\n",
    "plt.ylabel('Predictions (expenses)')\n",
    "lims = [0, 50000]\n",
    "plt.xlim(lims)\n",
    "plt.ylim(lims)\n",
    "_ = plt.plot(lims,lims)\n"
   ]
  },
  {
   "cell_type": "code",
   "execution_count": null,
   "metadata": {},
   "outputs": [],
   "source": []
  }
 ],
 "metadata": {
  "colab": {
   "collapsed_sections": [],
   "name": "fcc_predict_health_costs_with_regression.ipynb",
   "private_outputs": true,
   "provenance": [],
   "toc_visible": true
  },
  "kernelspec": {
   "display_name": "Python 3 (ipykernel)",
   "language": "python",
   "name": "python3"
  },
  "language_info": {
   "codemirror_mode": {
    "name": "ipython",
    "version": 3
   },
   "file_extension": ".py",
   "mimetype": "text/x-python",
   "name": "python",
   "nbconvert_exporter": "python",
   "pygments_lexer": "ipython3",
   "version": "3.10.7"
  }
 },
 "nbformat": 4,
 "nbformat_minor": 1
}
